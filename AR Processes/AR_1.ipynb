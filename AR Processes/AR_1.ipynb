{
  "nbformat": 4,
  "nbformat_minor": 0,
  "metadata": {
    "colab": {
      "provenance": [],
      "authorship_tag": "ABX9TyMzGkY6SmAsx7aWnyKz5Qzy",
      "include_colab_link": true
    },
    "kernelspec": {
      "name": "python3",
      "display_name": "Python 3"
    },
    "language_info": {
      "name": "python"
    }
  },
  "cells": [
    {
      "cell_type": "markdown",
      "metadata": {
        "id": "view-in-github",
        "colab_type": "text"
      },
      "source": [
        "<a href=\"https://colab.research.google.com/github/gaurav15raj/Time_Series-Econs-/blob/main/AR%20Processes/AR_1.ipynb\" target=\"_parent\"><img src=\"https://colab.research.google.com/assets/colab-badge.svg\" alt=\"Open In Colab\"/></a>"
      ]
    },
    {
      "cell_type": "markdown",
      "source": [
        "**Q1**\n",
        "As a warm up and revision to the last week's content, here is the first problem of the week :\n",
        "Run a linear regression model for the following dataset :\n",
        "https://www.kaggle.com/datasets/aungpyaeap/fish-market\n",
        "\n",
        "and predict the weight for the given values of other variables.\n",
        "Feel free to change the order of code, this notebook is only meant to act as a help if you're not too familiar with Machine Learning in python"
      ],
      "metadata": {
        "id": "QhGyzsOu47Ks"
      }
    },
    {
      "cell_type": "code",
      "source": [
        "import pandas as pd\n",
        "import numpy as np \n",
        "#import other sklearn libraries for Linear Regression "
      ],
      "metadata": {
        "id": "mXiHu78S5MGQ"
      },
      "execution_count": null,
      "outputs": []
    },
    {
      "cell_type": "code",
      "source": [
        "#define dependent and independent variables \n",
        "#use train_test_split to split the dataset \n",
        "\n",
        "#x = \n",
        "#y = \n",
        "\n",
        "#apply linear regression and predict y_pred using x_test\n"
      ],
      "metadata": {
        "id": "d0mzb-Ut5N6W"
      },
      "execution_count": null,
      "outputs": []
    },
    {
      "cell_type": "code",
      "source": [
        "#compare y_test and y_pred \n",
        "#import modules for r2 score and report the following : r2 score, coefficients, intercept "
      ],
      "metadata": {
        "id": "cirFk8GT57FX"
      },
      "execution_count": null,
      "outputs": []
    }
  ]
}