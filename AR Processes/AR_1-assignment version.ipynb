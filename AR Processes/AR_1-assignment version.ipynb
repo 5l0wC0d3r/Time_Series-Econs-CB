{
 "cells": [
  {
   "cell_type": "markdown",
   "id": "85e9f6e3",
   "metadata": {},
   "source": [
    "# Q1 \n",
    "\n",
    "## As a warm up and revision to the last week's content, here is the first problem of the week : \n",
    "## Run a linear regression model for the following dataset : \n",
    "https://www.kaggle.com/datasets/aungpyaeap/fish-market\n",
    "## and predict the weights for the given values of other parameters. \n",
    "## Feel free to change the order of code, this notebook is only meant to act as a help if you're not too familiar with Machine Learning in python "
   ]
  },
  {
   "cell_type": "code",
   "execution_count": 2,
   "id": "922c5a0f",
   "metadata": {},
   "outputs": [],
   "source": [
    "import pandas as pd\n",
    "import numpy as np \n",
    "#import other sklearn libraries for Linear Regression "
   ]
  },
  {
   "cell_type": "code",
   "execution_count": null,
   "id": "afcd9af4",
   "metadata": {},
   "outputs": [],
   "source": []
  },
  {
   "cell_type": "code",
   "execution_count": null,
   "id": "dc97c3d3",
   "metadata": {},
   "outputs": [],
   "source": []
  },
  {
   "cell_type": "code",
   "execution_count": null,
   "id": "d88e8377",
   "metadata": {},
   "outputs": [],
   "source": []
  },
  {
   "cell_type": "code",
   "execution_count": 3,
   "id": "8bc09314",
   "metadata": {},
   "outputs": [],
   "source": [
    "#define dependent and independent variables \n",
    "#use the train_test_split module from sklearn to split the dataset \n",
    "\n",
    "# x = \n",
    "# y = \n",
    "\n",
    "#apply linear regression to the training dataset and predict for the test dataset "
   ]
  },
  {
   "cell_type": "code",
   "execution_count": null,
   "id": "66abadb7",
   "metadata": {},
   "outputs": [],
   "source": []
  },
  {
   "cell_type": "code",
   "execution_count": 4,
   "id": "b3a55add",
   "metadata": {},
   "outputs": [],
   "source": [
    "#import metrics for r2 score and report the following : r2 score, coefficients, intercept"
   ]
  },
  {
   "cell_type": "code",
   "execution_count": null,
   "id": "911814e5",
   "metadata": {},
   "outputs": [],
   "source": []
  },
  {
   "cell_type": "code",
   "execution_count": null,
   "id": "9a73f5af",
   "metadata": {},
   "outputs": [],
   "source": [
    "   "
   ]
  }
 ],
 "metadata": {
  "kernelspec": {
   "display_name": "Python 3",
   "language": "python",
   "name": "python3"
  },
  "language_info": {
   "codemirror_mode": {
    "name": "ipython",
    "version": 3
   },
   "file_extension": ".py",
   "mimetype": "text/x-python",
   "name": "python",
   "nbconvert_exporter": "python",
   "pygments_lexer": "ipython3",
   "version": "3.8.8"
  }
 },
 "nbformat": 4,
 "nbformat_minor": 5
}
