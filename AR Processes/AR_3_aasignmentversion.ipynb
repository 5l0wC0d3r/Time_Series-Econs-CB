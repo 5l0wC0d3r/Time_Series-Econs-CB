{
  "nbformat": 4,
  "nbformat_minor": 0,
  "metadata": {
    "colab": {
      "provenance": [],
      "authorship_tag": "ABX9TyMiJ6q3yENgnFL5FePqk8g6",
      "include_colab_link": true
    },
    "kernelspec": {
      "name": "python3",
      "display_name": "Python 3"
    },
    "language_info": {
      "name": "python"
    }
  },
  "cells": [
    {
      "cell_type": "markdown",
      "metadata": {
        "id": "view-in-github",
        "colab_type": "text"
      },
      "source": [
        "<a href=\"https://colab.research.google.com/github/gaurav15raj/Time_Series-Econs-/blob/main/AR%20Processes/AR_3_aasignmentversion.ipynb\" target=\"_parent\"><img src=\"https://colab.research.google.com/assets/colab-badge.svg\" alt=\"Open In Colab\"/></a>"
      ]
    },
    {
      "cell_type": "code",
      "execution_count": null,
      "metadata": {
        "id": "8J7GdfalTFtR"
      },
      "outputs": [],
      "source": [
        "import pandas as pd\n",
        "import numpy as np \n",
        "import matplotlib.pyplot as plt\n",
        "import statsmodels.api as sm\n",
        "\n",
        "#import other useful libraries \n",
        "\n",
        "\n"
      ]
    },
    {
      "cell_type": "markdown",
      "source": [
        "In this assignment, you will be using data from the real world (almost) to identify and predict the pattern in closing stock price of a company for each day in 2022. Load the dataset saved as **output.csv** in the github repo and do the following : \n",
        "\n",
        "a) Plot the acf and pacf graphs to identify the process and its order \n",
        "b) Use a linear regression model to find the coefficients of this process once you know the order \n",
        "\n",
        "**optional** : If you're unable to figure out the order in one go, play around with different lag values and check for the model that gives the best score. \n",
        "(use r2_score etc for this) \n",
        "\n",
        "**c) Create additional entries in the same dataframe which correspond to the first month of 2023 and then predict the closing stock price for each day of this month. Save your results in your github repo**\n",
        "\n"
      ],
      "metadata": {
        "id": "_RQ61ub7T6M-"
      }
    },
    {
      "cell_type": "code",
      "source": [
        "#load the dataset\n",
        "url = 'url of dataset'\n",
        "df = pd.read_csv(url)"
      ],
      "metadata": {
        "id": "6bVddiNlTlR-"
      },
      "execution_count": null,
      "outputs": []
    },
    {
      "cell_type": "code",
      "source": [
        "#plot the acf and pacf \n"
      ],
      "metadata": {
        "id": "HVy10O4bWD_y"
      },
      "execution_count": 1,
      "outputs": []
    },
    {
      "cell_type": "code",
      "source": [
        "#it looks like an AR Process of order x, so we will train our regression till x lags \n",
        "\n",
        "#use the df.shift function to get a lag of 1,2....x"
      ],
      "metadata": {
        "id": "LOHfAUh_Wv0M"
      },
      "execution_count": null,
      "outputs": []
    },
    {
      "cell_type": "code",
      "source": [
        "\n",
        "#perform data cleaning and define dependent and independent variables"
      ],
      "metadata": {
        "colab": {
          "base_uri": "https://localhost:8080/"
        },
        "id": "Z9xxgZbWYRT0",
        "outputId": "2af5d161-42ba-4303-dbdd-e408fe1ff8bd"
      },
      "execution_count": null,
      "outputs": [
        {
          "output_type": "execute_result",
          "data": {
            "text/plain": [
              "362"
            ]
          },
          "metadata": {},
          "execution_count": 96
        }
      ]
    },
    {
      "cell_type": "code",
      "source": [
        "#define train and test data \n"
      ],
      "metadata": {
        "id": "OvRrsM-IINhz"
      },
      "execution_count": null,
      "outputs": []
    },
    {
      "cell_type": "code",
      "source": [
        "#define and fit your model"
      ],
      "metadata": {
        "id": "C4BXVGbwMQA8"
      },
      "execution_count": 6,
      "outputs": []
    },
    {
      "cell_type": "code",
      "source": [
        "#get results!! "
      ],
      "metadata": {
        "id": "W-UHoT4wO6aO"
      },
      "execution_count": 5,
      "outputs": []
    },
    {
      "cell_type": "code",
      "source": [
        "#run and plot the predictions for the predicted and test values to visualize the model"
      ],
      "metadata": {
        "id": "6XXYL6x1PCwj"
      },
      "execution_count": 3,
      "outputs": []
    },
    {
      "cell_type": "code",
      "source": [
        "#calculate the r2 score and comment on the model performance"
      ],
      "metadata": {
        "id": "yrPActZvPTv0"
      },
      "execution_count": 4,
      "outputs": []
    },
    {
      "cell_type": "markdown",
      "source": [
        "There is a much simpler way of doing this via the statsmodel library instead of the sklearn library. Try doing the same here!"
      ],
      "metadata": {
        "id": "gWrJbVpiYlPD"
      }
    },
    {
      "cell_type": "code",
      "source": [],
      "metadata": {
        "id": "UPtIka2qUX-q"
      },
      "execution_count": null,
      "outputs": []
    },
    {
      "cell_type": "code",
      "source": [
        "#use the statsmodel library to predict the model "
      ],
      "metadata": {
        "id": "9GCviiesP77A"
      },
      "execution_count": 2,
      "outputs": []
    },
    {
      "cell_type": "code",
      "source": [],
      "metadata": {
        "id": "AxacD-xDV8VF"
      },
      "execution_count": null,
      "outputs": []
    }
  ]
}